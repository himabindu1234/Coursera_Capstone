{
    "nbformat_minor": 1, 
    "cells": [
        {
            "source": "Problem: \n\nWhere would I start my rice mill?\n\nA description of the problem:\n\nRice is the main source of food in India, Rice crop is a major crop cultivated throughout India. Rice milling is one of the well-known business area with guaranteed market.\nRice milling is the process, which includes cleaning of paddy, de husking the grains, polishing, grading, sorting and packing of Rice.\nIn India, Rice is mainly produced in West Bengal, Uttar Pradesh, Andhra Pradesh, and Punjab.\nAndhra Pradesh [ AP] has been a veritable \u2018Rice Bowl for India\u2019 with an  avg rice production of 7.49 million tonnes,  and  area under rice cultivation is approximately 2.16 million hectares. There are about 6500 Rice Mills in AP. \n", 
            "cell_type": "markdown", 
            "metadata": {
                "collapsed": true
            }
        }
    ], 
    "metadata": {
        "kernelspec": {
            "display_name": "Python 3.6", 
            "name": "python3", 
            "language": "python"
        }, 
        "language_info": {
            "mimetype": "text/x-python", 
            "nbconvert_exporter": "python", 
            "version": "3.6.8", 
            "name": "python", 
            "file_extension": ".py", 
            "pygments_lexer": "ipython3", 
            "codemirror_mode": {
                "version": 3, 
                "name": "ipython"
            }
        }
    }, 
    "nbformat": 4
}