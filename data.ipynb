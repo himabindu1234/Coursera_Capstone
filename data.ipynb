{
    "nbformat_minor": 1, 
    "cells": [
        {
            "source": "Data : \nLocation Data : rice mills data from  Foursquare location data.\nPaddy Production data: http://agricoop.nic.in/all-india-crop-situation\nArea under rice cultivation data: http://agricoop.nic.in/all-india-crop-situation\n\nA description of the data: \n\nI am interested in find out the location for my rice mill, which has a significant  distance  from other rice mills to avoid competition. At the same time to get good business I want to locate a place where rice is a major crop and high paddy production.\n", 
            "cell_type": "markdown", 
            "metadata": {
                "collapsed": true
            }
        }, 
        {
            "source": "", 
            "cell_type": "raw", 
            "metadata": {}
        }, 
        {
            "execution_count": null, 
            "cell_type": "code", 
            "metadata": {}, 
            "outputs": [], 
            "source": ""
        }
    ], 
    "metadata": {
        "kernelspec": {
            "display_name": "Python 3.6", 
            "name": "python3", 
            "language": "python"
        }, 
        "language_info": {
            "mimetype": "text/x-python", 
            "nbconvert_exporter": "python", 
            "version": "3.6.8", 
            "name": "python", 
            "file_extension": ".py", 
            "pygments_lexer": "ipython3", 
            "codemirror_mode": {
                "version": 3, 
                "name": "ipython"
            }
        }
    }, 
    "nbformat": 4
}